{
 "cells": [
  {
   "cell_type": "code",
   "execution_count": null,
   "id": "1c6b53b1-81e4-4172-9384-b49720cfe6e1",
   "metadata": {},
   "outputs": [],
   "source": [
    "#This is a new notebook by SOme random Stranger in MauraA book \n"
   ]
  }
 ],
 "metadata": {
  "kernelspec": {
   "display_name": "Python 3 (ipykernel)",
   "language": "python",
   "name": "python3"
  },
  "language_info": {
   "codemirror_mode": {
    "name": "ipython",
    "version": 3
   },
   "file_extension": ".py",
   "mimetype": "text/x-python",
   "name": "python",
   "nbconvert_exporter": "python",
   "pygments_lexer": "ipython3",
   "version": "3.11.5"
  }
 },
 "nbformat": 4,
 "nbformat_minor": 5
}
