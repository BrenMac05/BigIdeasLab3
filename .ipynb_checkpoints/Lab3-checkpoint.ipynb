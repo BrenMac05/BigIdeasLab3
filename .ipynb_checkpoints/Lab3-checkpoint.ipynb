{
 "cells": [
  {
   "cell_type": "code",
   "execution_count": null,
   "id": "1c6b53b1-81e4-4172-9384-b49720cfe6e1",
   "metadata": {},
   "outputs": [],
   "source": [
    "#This is a new notebook by SOme random Stranger in MauraA book \n"
   ]
  },
  {
   "cell_type": "code",
   "execution_count": null,
   "id": "56c49d79-b9e6-40fa-a645-6ca501bc8ab6",
   "metadata": {},
   "outputs": [],
   "source": [
    "print(\"Hello\"d)"
   ]
  },
  {
   "cell_type": "code",
   "execution_count": null,
   "id": "3003ad7d-28ed-45f9-b345-5287c5b72a49",
   "metadata": {},
   "outputs": [],
   "source": []
  }
 ],
 "metadata": {
  "kernelspec": {
   "display_name": "Python 3 (ipykernel)",
   "language": "python",
   "name": "python3"
  },
  "language_info": {
   "codemirror_mode": {
    "name": "ipython",
    "version": 3
   },
   "file_extension": ".py",
   "mimetype": "text/x-python",
   "name": "python",
   "nbconvert_exporter": "python",
   "pygments_lexer": "ipython3",
   "version": "3.11.5"
  }
 },
 "nbformat": 4,
 "nbformat_minor": 5
}
