{
 "cells": [
  {
   "cell_type": "code",
   "execution_count": null,
   "id": "45ff667c-2fde-40ab-9400-edfe56f9c457",
   "metadata": {},
   "outputs": [],
   "source": [
    "#NEw note"
   ]
  }
 ],
 "metadata": {
  "kernelspec": {
   "display_name": "Python 3 (ipykernel)",
   "language": "python",
   "name": "python3"
  },
  "language_info": {
   "codemirror_mode": {
    "name": "ipython",
    "version": 3
   },
   "file_extension": ".py",
   "mimetype": "text/x-python",
   "name": "python",
   "nbconvert_exporter": "python",
   "pygments_lexer": "ipython3",
   "version": "3.11.5"
  }
 },
 "nbformat": 4,
 "nbformat_minor": 5
}
